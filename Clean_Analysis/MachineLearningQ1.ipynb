{
 "cells": [
  {
   "cell_type": "code",
   "execution_count": 1,
   "id": "stone-parade",
   "metadata": {},
   "outputs": [],
   "source": [
    "# dependencies \n",
    "import matplotlib.pyplot as plt\n",
    "import pandas as pd\n",
    "import numpy as np\n",
    "import os\n",
    "from sklearn import tree\n",
    "%matplotlib inline\n",
    "\n",
    "# database \n",
    "import psycopg2\n",
    "import config as creds"
   ]
  },
  {
   "cell_type": "code",
   "execution_count": 2,
   "id": "shaped-february",
   "metadata": {},
   "outputs": [
    {
     "name": "stdout",
     "output_type": "stream",
     "text": [
      "host=aws-pg-db001.chpuoe9ndogr.us-east-1.rds.amazonaws.com port=5432 dbname=covid user=postgres password=awsdbpassword001\n"
     ]
    }
   ],
   "source": [
    "#connecting to database \n",
    "conn_string = \"host=\"+ creds.PGHOST +\" port=\"+ \"5432\" +\" dbname=\"+ creds.PGDATABASE +\" user=\" + creds.PGUSER \\\n",
    "                  +\" password=\"+ creds.PGPASSWORD\n",
    "    \n",
    "print(conn_string)"
   ]
  },
  {
   "cell_type": "code",
   "execution_count": 3,
   "id": "further-aaron",
   "metadata": {},
   "outputs": [],
   "source": [
    "conn = psycopg2.connect(conn_string)"
   ]
  },
  {
   "cell_type": "code",
   "execution_count": 4,
   "id": "christian-edward",
   "metadata": {},
   "outputs": [],
   "source": [
    "covid_df = pd.read_sql_query(\n",
    "                   ''' SELECT * FROM coviddata \n",
    "                   ''' , conn)"
   ]
  },
  {
   "cell_type": "code",
   "execution_count": 5,
   "id": "attached-input",
   "metadata": {},
   "outputs": [],
   "source": [
    "# drop header row \n",
    "covid_df = covid_df.iloc[1:]\n",
    "covid_df.dtypes;"
   ]
  },
  {
   "cell_type": "code",
   "execution_count": 6,
   "id": "opponent-kelly",
   "metadata": {},
   "outputs": [],
   "source": [
    "# convert object type to float for select columns \n",
    "covid_df['meanage']=covid_df['meanage'].astype(str).astype(float)\n",
    "covid_df['mortality']=covid_df['mortality'].astype(str).astype(float)\n",
    "covid_df.dtypes;"
   ]
  },
  {
   "cell_type": "markdown",
   "id": "artistic-composer",
   "metadata": {},
   "source": [
    "Question 1: Is Age a factor in determining high risk mortality? "
   ]
  },
  {
   "cell_type": "code",
   "execution_count": 7,
   "id": "wooden-construction",
   "metadata": {},
   "outputs": [],
   "source": [
    "#Create df with relevant columns to compare\n",
    "age_plot = covid_df[['meanage','mortality']]\n",
    "age_plot = age_plot.reindex()\n",
    "age_plot;"
   ]
  },
  {
   "cell_type": "code",
   "execution_count": 8,
   "id": "exclusive-sequence",
   "metadata": {},
   "outputs": [],
   "source": [
    "# Rename columns \n",
    "age_plot = age_plot.rename(columns={\"meanage\": \"Mean Age\", \"mortality\": \"Mortality\"})"
   ]
  },
  {
   "cell_type": "code",
   "execution_count": 9,
   "id": "weekly-frank",
   "metadata": {},
   "outputs": [
    {
     "name": "stdout",
     "output_type": "stream",
     "text": [
      "(1156, 1) (1156, 1)\n"
     ]
    }
   ],
   "source": [
    "# Assign X and y variables for ML \n",
    "X = age_plot[[\"Mean Age\"]]\n",
    "y = age_plot[[\"Mortality\"]]\n",
    "print(X.shape, y.shape)"
   ]
  },
  {
   "cell_type": "code",
   "execution_count": 10,
   "id": "legendary-client",
   "metadata": {},
   "outputs": [
    {
     "data": {
      "text/plain": [
       "Text(0.5, 1.0, 'Age vs Mortality')"
      ]
     },
     "execution_count": 10,
     "metadata": {},
     "output_type": "execute_result"
    },
    {
     "data": {
      "image/png": "[encoded data removed]",
      "text/plain": [
       "<Figure size 432x288 with 1 Axes>"
      ]
     },
     "metadata": {
      "needs_background": "light"
     },
     "output_type": "display_data"
    }
   ],
   "source": [
    "#Plot  \n",
    "plt.scatter(X,y)\n",
    "plt.xlabel('Age')\n",
    "plt.ylabel('Mortality')\n",
    "plt.title('Age vs Mortality')"
   ]
  },
  {
   "cell_type": "code",
   "execution_count": 11,
   "id": "built-server",
   "metadata": {},
   "outputs": [],
   "source": [
    "# Split data for test/train \n",
    "from sklearn.model_selection import train_test_split\n",
    "X_train, X_test, y_train, y_test = train_test_split(X, y, random_state=1)"
   ]
  },
  {
   "cell_type": "code",
   "execution_count": 12,
   "id": "pleased-header",
   "metadata": {},
   "outputs": [],
   "source": [
    "# Import KMeans with 6 clusters \n",
    "from sklearn.cluster import KMeans\n",
    "kmeans = KMeans(n_clusters=6)"
   ]
  },
  {
   "cell_type": "code",
   "execution_count": 13,
   "id": "chubby-olive",
   "metadata": {},
   "outputs": [
    {
     "data": {
      "text/plain": [
       "KMeans(n_clusters=6)"
      ]
     },
     "execution_count": 13,
     "metadata": {},
     "output_type": "execute_result"
    }
   ],
   "source": [
    "# Fit test values to model \n",
    "kmeans.fit(X_test, y_test)"
   ]
  },
  {
   "cell_type": "code",
   "execution_count": 14,
   "id": "decimal-fleet",
   "metadata": {},
   "outputs": [],
   "source": [
    "# Find predicted clusters\n",
    "predicted_clusters = kmeans.predict(X_test)"
   ]
  },
  {
   "cell_type": "code",
   "execution_count": 15,
   "id": "third-search",
   "metadata": {},
   "outputs": [],
   "source": [
    "# Calculate for centers and labels\n",
    "centers = kmeans.cluster_centers_\n",
    "labels = kmeans.labels_"
   ]
  },
  {
   "cell_type": "code",
   "execution_count": 16,
   "id": "separated-habitat",
   "metadata": {},
   "outputs": [
    {
     "data": {
      "image/png": "[encoded data removed]",
      "text/plain": [
       "<Figure size 432x288 with 1 Axes>"
      ]
     },
     "metadata": {
      "needs_background": "light"
     },
     "output_type": "display_data"
    }
   ],
   "source": [
    "# Print clusters \n",
    "plt.scatter(X_test, y_test, c = labels, cmap='viridis')\n",
    "plt.xlabel('Age')\n",
    "plt.ylabel('Mortality')\n",
    "plt.title('Age vs Mortality')\n",
    "# plt.savefig('../static/images/ageCluster.png')"
   ]
  },
  {
   "cell_type": "code",
   "execution_count": 17,
   "id": "convenient-greensboro",
   "metadata": {},
   "outputs": [],
   "source": [
    "X_test, predicted_clusters, y_test;"
   ]
  },
  {
   "cell_type": "code",
   "execution_count": 18,
   "id": "amazing-child",
   "metadata": {},
   "outputs": [],
   "source": [
    "# Create new dataframe with age \n",
    "risk_age = pd.DataFrame(X_test)\n"
   ]
  },
  {
   "cell_type": "code",
   "execution_count": 19,
   "id": "subject-passion",
   "metadata": {},
   "outputs": [],
   "source": [
    "# Reset index \n",
    "risk_age.reset_index(drop=True, inplace=True)\n",
    "y_test.reset_index(drop=True, inplace=True)"
   ]
  },
  {
   "cell_type": "code",
   "execution_count": 20,
   "id": "negative-capture",
   "metadata": {},
   "outputs": [],
   "source": [
    "# Add predicted clusters to dataframe \n",
    "predicted_clusters =pd.DataFrame(predicted_clusters)\n",
    "risk_age['predicted_clusters']=predicted_clusters"
   ]
  },
  {
   "cell_type": "code",
   "execution_count": 21,
   "id": "alive-dream",
   "metadata": {},
   "outputs": [],
   "source": [
    "# Add mortality to datafrmae \n",
    "risk_age['Mortality']= y_test"
   ]
  },
  {
   "cell_type": "code",
   "execution_count": 22,
   "id": "driven-methodology",
   "metadata": {},
   "outputs": [],
   "source": [
    "# group by clusters \n",
    "grouped = risk_age.groupby(by=[\"predicted_clusters\"])"
   ]
  },
  {
   "cell_type": "code",
   "execution_count": 23,
   "id": "normal-printer",
   "metadata": {},
   "outputs": [],
   "source": [
    "# find average mortality rate by clusters \n",
    "mort = grouped.mean('Mortality')"
   ]
  },
  {
   "cell_type": "code",
   "execution_count": 24,
   "id": "enclosed-english",
   "metadata": {},
   "outputs": [],
   "source": [
    "# rename columns \n",
    "new_mort = mort.rename(columns={'Mortality':'AvgMortality'})"
   ]
  },
  {
   "cell_type": "code",
   "execution_count": 25,
   "id": "daily-stretch",
   "metadata": {},
   "outputs": [],
   "source": [
    "# min age per clusters and rename columns \n",
    "minimum = grouped.min('Mean Age')\n",
    "new_min = minimum.rename(columns={'Mean Age':'MinAge'})"
   ]
  },
  {
   "cell_type": "code",
   "execution_count": 26,
   "id": "professional-stream",
   "metadata": {},
   "outputs": [],
   "source": [
    "# max age per clusters and rename columns \n",
    "maximum = grouped.max('Mean Age')\n",
    "new_max = maximum.rename(columns={'Mean Age':'MaxAge'})"
   ]
  },
  {
   "cell_type": "code",
   "execution_count": 28,
   "id": "least-tooth",
   "metadata": {},
   "outputs": [
    {
     "data": {
      "text/html": [
       "<div>\n",
       "<style scoped>\n",
       "    .dataframe tbody tr th:only-of-type {\n",
       "        vertical-align: middle;\n",
       "    }\n",
       "\n",
       "    .dataframe tbody tr th {\n",
       "        vertical-align: top;\n",
       "    }\n",
       "\n",
       "    .dataframe thead th {\n",
       "        text-align: right;\n",
       "    }\n",
       "</style>\n",
       "<table border=\"1\" class=\"dataframe\">\n",
       "  <thead>\n",
       "    <tr style=\"text-align: right;\">\n",
       "      <th></th>\n",
       "      <th>Mean Age</th>\n",
       "      <th>AvgMortality</th>\n",
       "      <th>MinAge</th>\n",
       "      <th>Mortality</th>\n",
       "      <th>MaxAge</th>\n",
       "      <th>Mortality</th>\n",
       "    </tr>\n",
       "    <tr>\n",
       "      <th>predicted_clusters</th>\n",
       "      <th></th>\n",
       "      <th></th>\n",
       "      <th></th>\n",
       "      <th></th>\n",
       "      <th></th>\n",
       "      <th></th>\n",
       "    </tr>\n",
       "  </thead>\n",
       "  <tbody>\n",
       "    <tr>\n",
       "      <th>0</th>\n",
       "      <td>18.511628</td>\n",
       "      <td>0.086047</td>\n",
       "      <td>12.0</td>\n",
       "      <td>0.0</td>\n",
       "      <td>25.0</td>\n",
       "      <td>1.00</td>\n",
       "    </tr>\n",
       "    <tr>\n",
       "      <th>1</th>\n",
       "      <td>59.627119</td>\n",
       "      <td>0.117119</td>\n",
       "      <td>54.0</td>\n",
       "      <td>0.0</td>\n",
       "      <td>64.0</td>\n",
       "      <td>1.00</td>\n",
       "    </tr>\n",
       "    <tr>\n",
       "      <th>2</th>\n",
       "      <td>47.662500</td>\n",
       "      <td>0.044125</td>\n",
       "      <td>43.0</td>\n",
       "      <td>0.0</td>\n",
       "      <td>53.0</td>\n",
       "      <td>0.41</td>\n",
       "    </tr>\n",
       "    <tr>\n",
       "      <th>3</th>\n",
       "      <td>69.326087</td>\n",
       "      <td>0.371087</td>\n",
       "      <td>65.0</td>\n",
       "      <td>0.0</td>\n",
       "      <td>79.0</td>\n",
       "      <td>1.00</td>\n",
       "    </tr>\n",
       "    <tr>\n",
       "      <th>4</th>\n",
       "      <td>37.290323</td>\n",
       "      <td>0.000000</td>\n",
       "      <td>31.0</td>\n",
       "      <td>0.0</td>\n",
       "      <td>42.0</td>\n",
       "      <td>0.00</td>\n",
       "    </tr>\n",
       "    <tr>\n",
       "      <th>5</th>\n",
       "      <td>4.333333</td>\n",
       "      <td>0.000333</td>\n",
       "      <td>0.0</td>\n",
       "      <td>0.0</td>\n",
       "      <td>10.0</td>\n",
       "      <td>0.01</td>\n",
       "    </tr>\n",
       "  </tbody>\n",
       "</table>\n",
       "</div>"
      ],
      "text/plain": [
       "                     Mean Age  AvgMortality  MinAge  Mortality  MaxAge  \\\n",
       "predicted_clusters                                                       \n",
       "0                   18.511628      0.086047    12.0        0.0    25.0   \n",
       "1                   59.627119      0.117119    54.0        0.0    64.0   \n",
       "2                   47.662500      0.044125    43.0        0.0    53.0   \n",
       "3                   69.326087      0.371087    65.0        0.0    79.0   \n",
       "4                   37.290323      0.000000    31.0        0.0    42.0   \n",
       "5                    4.333333      0.000333     0.0        0.0    10.0   \n",
       "\n",
       "                    Mortality  \n",
       "predicted_clusters             \n",
       "0                        1.00  \n",
       "1                        1.00  \n",
       "2                        0.41  \n",
       "3                        1.00  \n",
       "4                        0.00  \n",
       "5                        0.01  "
      ]
     },
     "execution_count": 28,
     "metadata": {},
     "output_type": "execute_result"
    }
   ],
   "source": [
    "# combine into single df \n",
    "combined_df=pd.concat([new_mort, new_min, new_max],axis=1)\n",
    "combined_df"
   ]
  },
  {
   "cell_type": "code",
   "execution_count": 29,
   "id": "reflected-tanzania",
   "metadata": {},
   "outputs": [
    {
     "data": {
      "text/html": [
       "<div>\n",
       "<style scoped>\n",
       "    .dataframe tbody tr th:only-of-type {\n",
       "        vertical-align: middle;\n",
       "    }\n",
       "\n",
       "    .dataframe tbody tr th {\n",
       "        vertical-align: top;\n",
       "    }\n",
       "\n",
       "    .dataframe thead th {\n",
       "        text-align: right;\n",
       "    }\n",
       "</style>\n",
       "<table border=\"1\" class=\"dataframe\">\n",
       "  <thead>\n",
       "    <tr style=\"text-align: right;\">\n",
       "      <th></th>\n",
       "      <th>MinAge</th>\n",
       "      <th>MaxAge</th>\n",
       "      <th>AvgMortality</th>\n",
       "    </tr>\n",
       "    <tr>\n",
       "      <th>predicted_clusters</th>\n",
       "      <th></th>\n",
       "      <th></th>\n",
       "      <th></th>\n",
       "    </tr>\n",
       "  </thead>\n",
       "  <tbody>\n",
       "    <tr>\n",
       "      <th>4</th>\n",
       "      <td>31.0</td>\n",
       "      <td>42.0</td>\n",
       "      <td>0.000000</td>\n",
       "    </tr>\n",
       "    <tr>\n",
       "      <th>5</th>\n",
       "      <td>0.0</td>\n",
       "      <td>10.0</td>\n",
       "      <td>0.000333</td>\n",
       "    </tr>\n",
       "    <tr>\n",
       "      <th>2</th>\n",
       "      <td>43.0</td>\n",
       "      <td>53.0</td>\n",
       "      <td>0.044125</td>\n",
       "    </tr>\n",
       "    <tr>\n",
       "      <th>0</th>\n",
       "      <td>12.0</td>\n",
       "      <td>25.0</td>\n",
       "      <td>0.086047</td>\n",
       "    </tr>\n",
       "    <tr>\n",
       "      <th>1</th>\n",
       "      <td>54.0</td>\n",
       "      <td>64.0</td>\n",
       "      <td>0.117119</td>\n",
       "    </tr>\n",
       "    <tr>\n",
       "      <th>3</th>\n",
       "      <td>65.0</td>\n",
       "      <td>79.0</td>\n",
       "      <td>0.371087</td>\n",
       "    </tr>\n",
       "  </tbody>\n",
       "</table>\n",
       "</div>"
      ],
      "text/plain": [
       "                    MinAge  MaxAge  AvgMortality\n",
       "predicted_clusters                              \n",
       "4                     31.0    42.0      0.000000\n",
       "5                      0.0    10.0      0.000333\n",
       "2                     43.0    53.0      0.044125\n",
       "0                     12.0    25.0      0.086047\n",
       "1                     54.0    64.0      0.117119\n",
       "3                     65.0    79.0      0.371087"
      ]
     },
     "execution_count": 29,
     "metadata": {},
     "output_type": "execute_result"
    }
   ],
   "source": [
    "# grab relevant columsn to compare and sort \n",
    "results = combined_df[['MinAge','MaxAge','AvgMortality']]\n",
    "end_results = results.sort_values(by=['AvgMortality'])\n",
    "end_results"
   ]
  },
  {
   "cell_type": "code",
   "execution_count": 30,
   "id": "vertical-strengthening",
   "metadata": {},
   "outputs": [],
   "source": [
    "# end of question 1 "
   ]
  },
  {
   "cell_type": "code",
   "execution_count": 32,
   "id": "harmful-maintenance",
   "metadata": {},
   "outputs": [],
   "source": [
    "# print as csv \n",
    "end_results.to_csv ('../static/pltImages/ageRisk.csv', header=True);"
   ]
  },
  {
   "cell_type": "code",
   "execution_count": null,
   "id": "liked-bristol",
   "metadata": {},
   "outputs": [],
   "source": []
  }
 ],
 "metadata": {
  "kernelspec": {
   "display_name": "Python 3",
   "language": "python",
   "name": "python3"
  },
  "language_info": {
   "codemirror_mode": {
    "name": "ipython",
    "version": 3
   },
   "file_extension": ".py",
   "mimetype": "text/x-python",
   "name": "python",
   "nbconvert_exporter": "python",
   "pygments_lexer": "ipython3",
   "version": "3.8.5"
  }
 },
 "nbformat": 4,
 "nbformat_minor": 5
}
